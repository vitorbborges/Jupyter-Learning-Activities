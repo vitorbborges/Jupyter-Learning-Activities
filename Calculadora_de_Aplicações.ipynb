{
 "cells": [
  {
   "cell_type": "code",
   "execution_count": null,
   "metadata": {
    "scrolled": false
   },
   "outputs": [
    {
     "name": "stdout",
     "output_type": "stream",
     "text": [
      "Dividend Yield: 0.65\n"
     ]
    }
   ],
   "source": [
    "dyield = float(input(\"Dividend Yield: \"))\n",
    "valor = float(input(\"Valor do Ativo: \"))\n",
    "dinheiro = float(input(\"Capital Disponívelpara Aplicação: \"))\n",
    "tempo = int(input(\"Número de Meses até o Resgate: \"))\n",
    "cotas = int(dinheiro/valor)\n",
    "total = valor*cotas\n",
    "lucrot = dinheiro-total\n",
    "for i in range(tempo):\n",
    "    lucrot += valor*cotas*dyield*(1/100)\n",
    "    if lucrot >= valor:\n",
    "        lucrot -= valor\n",
    "        cotas += 1\n",
    "lucro = valor*(cotas- int(dinheiro/valor)) + lucrot\n",
    "print('Valor Inicial: ','R$'+ str(round(total,3)))\n",
    "print('Número de Meses: ', str(tempo), 'meses')\n",
    "print('Valor Final: ','R$'+ str(round(total+lucro,3)))\n",
    "print('Lucro Total: ','R$'+ str(round(lucro,3)))\n",
    "print('Lucro Percentual: ', str(round((((total+lucro)/dinheiro)-1)*100, 3))+'%')"
   ]
  },
  {
   "cell_type": "code",
   "execution_count": null,
   "metadata": {},
   "outputs": [],
   "source": []
  }
 ],
 "metadata": {
  "kernelspec": {
   "display_name": "Python 3",
   "language": "python",
   "name": "python3"
  },
  "language_info": {
   "codemirror_mode": {
    "name": "ipython",
    "version": 3
   },
   "file_extension": ".py",
   "mimetype": "text/x-python",
   "name": "python",
   "nbconvert_exporter": "python",
   "pygments_lexer": "ipython3",
   "version": "3.7.3"
  }
 },
 "nbformat": 4,
 "nbformat_minor": 2
}
