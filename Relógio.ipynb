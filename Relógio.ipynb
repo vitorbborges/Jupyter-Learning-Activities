{
 "cells": [
  {
   "cell_type": "code",
   "execution_count": 1,
   "metadata": {},
   "outputs": [],
   "source": [
    "import sys\n",
    "from tkinter import *\n",
    "import time\n",
    "\n",
    "def tick():\n",
    "    time_string = time.strftime(\"%H:%M:%S\")\n",
    "    clock.config(text = time_string)\n",
    "    clock.after(200, tick)\n",
    "    \n",
    "root = Tk()\n",
    "clock = Label(root, font = (\"times\", 50, \"bold\"), bg = \"white\")\n",
    "clock.grid(row = 0, column = 1)\n",
    "tick()\n",
    "\n",
    "root.mainloop()"
   ]
  },
  {
   "cell_type": "code",
   "execution_count": null,
   "metadata": {},
   "outputs": [],
   "source": []
  }
 ],
 "metadata": {
  "kernelspec": {
   "display_name": "Python 3",
   "language": "python",
   "name": "python3"
  },
  "language_info": {
   "codemirror_mode": {
    "name": "ipython",
    "version": 3
   },
   "file_extension": ".py",
   "mimetype": "text/x-python",
   "name": "python",
   "nbconvert_exporter": "python",
   "pygments_lexer": "ipython3",
   "version": "3.7.4"
  }
 },
 "nbformat": 4,
 "nbformat_minor": 2
}
