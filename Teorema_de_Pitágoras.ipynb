{
 "cells": [
  {
   "cell_type": "code",
   "execution_count": 2,
   "metadata": {
    "scrolled": false
   },
   "outputs": [
    {
     "name": "stdout",
     "output_type": "stream",
     "text": [
      "If the the value is unknown type: \"0\"\n",
      "cateto1: 6\n",
      "cateto2: 5.196152422706632\n",
      "Hipotenusa:  7.937253933193772\n"
     ]
    }
   ],
   "source": [
    "from math import sqrt\n",
    "print('If the the value is unknown type: \"0\"')\n",
    "a = float(input(\"cateto1: \"))\n",
    "b = float(input(\"cateto2: \"))\n",
    "if a > 0.0 and b > 0.0:\n",
    "    print('Hipotenusa: ', sqrt(a**2 + b**2))\n",
    "elif a == 0.0 and b == 0.0:\n",
    "    print('ERRO!')\n",
    "else:\n",
    "    c = float(input(\"Hipotenusa: \"))\n",
    "    if a == 0.0:\n",
    "        print('cateto1: ', sqrt(c**2 - b**2))\n",
    "    else:\n",
    "        print('cateto2: ', sqrt(c**2 - a**2))"
   ]
  },
  {
   "cell_type": "code",
   "execution_count": null,
   "metadata": {},
   "outputs": [],
   "source": []
  }
 ],
 "metadata": {
  "kernelspec": {
   "display_name": "Python 3",
   "language": "python",
   "name": "python3"
  },
  "language_info": {
   "codemirror_mode": {
    "name": "ipython",
    "version": 3
   },
   "file_extension": ".py",
   "mimetype": "text/x-python",
   "name": "python",
   "nbconvert_exporter": "python",
   "pygments_lexer": "ipython3",
   "version": "3.7.4"
  }
 },
 "nbformat": 4,
 "nbformat_minor": 2
}
