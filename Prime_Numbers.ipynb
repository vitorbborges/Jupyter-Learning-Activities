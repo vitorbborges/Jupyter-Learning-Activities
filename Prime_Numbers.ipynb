{
 "cells": [
  {
   "cell_type": "code",
   "execution_count": 2,
   "metadata": {},
   "outputs": [
    {
     "name": "stdout",
     "output_type": "stream",
     "text": [
      "7\n",
      "7 is a prime number.\n"
     ]
    }
   ],
   "source": [
    "a = int(input())\n",
    "b = a - 1\n",
    "c = [1]\n",
    "for i in range(b-1):\n",
    "    c.append(c[-1]+1)\n",
    "    \n",
    "def Factorial(myList) : \n",
    "    result = 1\n",
    "    for x in myList: \n",
    "         result = result * x  \n",
    "    return result\n",
    "d = (Factorial(c) + 1) / a\n",
    "dint = int(d)\n",
    "if a == 1:\n",
    "    print(str(a), 'is not a prime number.')\n",
    "elif d == dint:\n",
    "    print(str(a), 'is a prime number.')\n",
    "else:\n",
    "    print(str(a), 'is not a prime number.')"
   ]
  },
  {
   "cell_type": "code",
   "execution_count": null,
   "metadata": {},
   "outputs": [],
   "source": []
  }
 ],
 "metadata": {
  "kernelspec": {
   "display_name": "Python 3",
   "language": "python",
   "name": "python3"
  },
  "language_info": {
   "codemirror_mode": {
    "name": "ipython",
    "version": 3
   },
   "file_extension": ".py",
   "mimetype": "text/x-python",
   "name": "python",
   "nbconvert_exporter": "python",
   "pygments_lexer": "ipython3",
   "version": "3.7.3"
  }
 },
 "nbformat": 4,
 "nbformat_minor": 2
}
