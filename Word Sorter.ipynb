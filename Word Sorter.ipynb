{
 "cells": [
  {
   "cell_type": "code",
   "execution_count": 36,
   "metadata": {},
   "outputs": [],
   "source": [
    "text = \"Brasília was planned and developed by Lúcio Costa, Oscar Niemeyer and Joaquim Cardozo in 1956 in a scheme to move the capital from Rio de Janeiro to a more central location. The landscape architect was Roberto Burle Marx. The city's design divides it into numbered blocks as well as sectors for specified activities, such as the Hotel Sector, the Banking Sector, and the Embassy Sector. Brasília was chosen as a UNESCO World Heritage Site due to its modernist architecture and uniquely artistic urban planning. It was named City of Design by UNESCO in October 2017 and has been part of the Creative Cities Network since then.\""
   ]
  },
  {
   "cell_type": "code",
   "execution_count": 33,
   "metadata": {},
   "outputs": [
    {
     "data": {
      "text/plain": [
       "{'Brasília': 2,\n",
       " 'was': 4,\n",
       " 'planned': 1,\n",
       " 'and': 5,\n",
       " 'developed': 1,\n",
       " 'by': 2,\n",
       " 'Lúcio': 1,\n",
       " 'Costa,': 1,\n",
       " 'Oscar': 1,\n",
       " 'Niemeyer': 1,\n",
       " 'Joaquim': 1,\n",
       " 'Cardozo': 1,\n",
       " 'in': 3,\n",
       " '1956': 1,\n",
       " 'a': 3,\n",
       " 'scheme': 1,\n",
       " 'to': 3,\n",
       " 'move': 1,\n",
       " 'the': 5,\n",
       " 'capital': 1,\n",
       " 'from': 1,\n",
       " 'Rio': 1,\n",
       " 'de': 1,\n",
       " 'Janeiro': 1,\n",
       " 'more': 1,\n",
       " 'central': 1,\n",
       " 'location.': 1,\n",
       " 'The': 2,\n",
       " 'landscape': 1,\n",
       " 'architect': 1,\n",
       " 'Roberto': 1,\n",
       " 'Burle': 1,\n",
       " 'Marx.': 1,\n",
       " \"city's\": 1,\n",
       " 'design': 1,\n",
       " 'divides': 1,\n",
       " 'it': 1,\n",
       " 'into': 1,\n",
       " 'numbered': 1,\n",
       " 'blocks': 1,\n",
       " 'as': 4,\n",
       " 'well': 1,\n",
       " 'sectors': 1,\n",
       " 'for': 1,\n",
       " 'specified': 1,\n",
       " 'activities,': 1,\n",
       " 'such': 1,\n",
       " 'Hotel': 1,\n",
       " 'Sector,': 2,\n",
       " 'Banking': 1,\n",
       " 'Embassy': 1,\n",
       " 'Sector.': 1,\n",
       " 'chosen': 1,\n",
       " 'UNESCO': 2,\n",
       " 'World': 1,\n",
       " 'Heritage': 1,\n",
       " 'Site': 1,\n",
       " 'due': 1,\n",
       " 'its': 1,\n",
       " 'modernist': 1,\n",
       " 'architecture': 1,\n",
       " 'uniquely': 1,\n",
       " 'artistic': 1,\n",
       " 'urban': 1,\n",
       " 'planning.': 1,\n",
       " 'It': 1,\n",
       " 'named': 1,\n",
       " 'City': 1,\n",
       " 'of': 2,\n",
       " 'Design': 1,\n",
       " 'October': 1,\n",
       " '2017': 1,\n",
       " 'has': 1,\n",
       " 'been': 1,\n",
       " 'part': 1,\n",
       " 'Creative': 1,\n",
       " 'Cities': 1,\n",
       " 'Network': 1,\n",
       " 'since': 1,\n",
       " 'then.': 1}"
      ]
     },
     "execution_count": 33,
     "metadata": {},
     "output_type": "execute_result"
    }
   ],
   "source": [
    "x = \"\"\n",
    "words = []\n",
    "for t in text:\n",
    "    if t == ' ':\n",
    "        words.append(x)\n",
    "        x = \"\"\n",
    "    else:\n",
    "        x = x + t\n",
    "words.append(x)\n",
    "x = \"\"\n",
    "words\n",
    "dict = {i : 0 for i in words}\n",
    "\n",
    "for e in words:\n",
    "    dict[e] += 1\n",
    "dict"
   ]
  },
  {
   "cell_type": "code",
   "execution_count": null,
   "metadata": {},
   "outputs": [],
   "source": []
  }
 ],
 "metadata": {
  "kernelspec": {
   "display_name": "Python 3",
   "language": "python",
   "name": "python3"
  },
  "language_info": {
   "codemirror_mode": {
    "name": "ipython",
    "version": 3
   },
   "file_extension": ".py",
   "mimetype": "text/x-python",
   "name": "python",
   "nbconvert_exporter": "python",
   "pygments_lexer": "ipython3",
   "version": "3.7.4"
  }
 },
 "nbformat": 4,
 "nbformat_minor": 2
}
