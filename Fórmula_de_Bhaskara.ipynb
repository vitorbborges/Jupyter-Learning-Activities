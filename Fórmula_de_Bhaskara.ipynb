{
 "cells": [
  {
   "cell_type": "code",
   "execution_count": 1,
   "metadata": {
    "scrolled": true
   },
   "outputs": [
    {
     "name": "stdout",
     "output_type": "stream",
     "text": [
      "a =1\n",
      "b =-7\n",
      "c =6\n",
      "Raiz 1:  6.0\n",
      "Raiz 2:  1.0\n"
     ]
    }
   ],
   "source": [
    "def bhaskara(a,b,c):\n",
    "    delta = (b*b - 4*a*c)\n",
    "    if delta >= 0:\n",
    "        x = ((b * (-1)) + (delta ** (1/2)))/(2 * a)\n",
    "        y = ((b * (-1)) - (delta ** (1/2)))/(2 * a)\n",
    "        print('Raiz 1: ', x)\n",
    "        print('Raiz 2: ', y)\n",
    "    else:\n",
    "        print('Delta não pertence aos reais')\n",
    "a = float(input(\"a =\"))\n",
    "b = float(input(\"b =\"))\n",
    "c = float(input(\"c =\"))\n",
    "bhaskara(a,b,c)"
   ]
  },
  {
   "cell_type": "code",
   "execution_count": null,
   "metadata": {},
   "outputs": [],
   "source": []
  }
 ],
 "metadata": {
  "kernelspec": {
   "display_name": "Python 3",
   "language": "python",
   "name": "python3"
  },
  "language_info": {
   "codemirror_mode": {
    "name": "ipython",
    "version": 3
   },
   "file_extension": ".py",
   "mimetype": "text/x-python",
   "name": "python",
   "nbconvert_exporter": "python",
   "pygments_lexer": "ipython3",
   "version": "3.7.4"
  }
 },
 "nbformat": 4,
 "nbformat_minor": 2
}
