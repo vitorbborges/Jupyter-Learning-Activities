{
 "cells": [
  {
   "cell_type": "code",
   "execution_count": null,
   "metadata": {},
   "outputs": [],
   "source": [
    "def per(n, steps = 0):\n",
    "    if len(str(n)) == 1:\n",
    "        print (n)\n",
    "        print('TOTAL STEPS ' + str(steps))\n",
    "        return \"DONE\"\n",
    "    \n",
    "    steps += 1\n",
    "    digits = [int(i) for i in str(n)]\n",
    "    \n",
    "    result = 1\n",
    "    for j in digits:\n",
    "        result *= j\n",
    "    print (result)    \n",
    "    per(result, steps)"
   ]
  }
 ],
 "metadata": {
  "kernelspec": {
   "display_name": "Python 3",
   "language": "python",
   "name": "python3"
  },
  "language_info": {
   "codemirror_mode": {
    "name": "ipython",
    "version": 3
   },
   "file_extension": ".py",
   "mimetype": "text/x-python",
   "name": "python",
   "nbconvert_exporter": "python",
   "pygments_lexer": "ipython3",
   "version": "3.7.1"
  }
 },
 "nbformat": 4,
 "nbformat_minor": 2
}
