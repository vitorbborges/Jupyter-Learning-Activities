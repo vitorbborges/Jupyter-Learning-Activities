{
 "cells": [
  {
   "cell_type": "code",
   "execution_count": 1,
   "metadata": {
    "ExecuteTime": {
     "end_time": "2022-08-01T23:11:10.864615Z",
     "start_time": "2022-08-01T23:11:09.758329Z"
    }
   },
   "outputs": [],
   "source": [
    "from selenium import webdriver\n",
    "from selenium.webdriver.chrome.service import Service\n",
    "from bs4 import BeautifulSoup"
   ]
  },
  {
   "cell_type": "code",
   "execution_count": 2,
   "metadata": {
    "ExecuteTime": {
     "end_time": "2022-08-01T23:11:10.895886Z",
     "start_time": "2022-08-01T23:11:10.882259Z"
    }
   },
   "outputs": [],
   "source": [
    "url = 'https://stj.jusbrasil.com.br/jurisprudencia/1230633114/embargos-de-declaracao-no-agravo-regimental-no-recurso-de-habeas-corpus-edcl-no-agrg-no-rhc-133430-pe-2020-0217582-8'"
   ]
  },
  {
   "cell_type": "code",
   "execution_count": 3,
   "metadata": {
    "ExecuteTime": {
     "end_time": "2022-08-01T23:12:08.892564Z",
     "start_time": "2022-08-01T23:11:10.914844Z"
    }
   },
   "outputs": [],
   "source": [
    "path = 'C:/Users/vitor/Downloads/chromedriver.exe'\n",
    "\n",
    "service = Service(executable_path=path)\n",
    "driver = webdriver.Chrome(service=service)\n",
    "driver.get(url)"
   ]
  },
  {
   "cell_type": "code",
   "execution_count": 4,
   "metadata": {
    "ExecuteTime": {
     "end_time": "2022-08-01T23:12:09.051128Z",
     "start_time": "2022-08-01T23:12:08.910505Z"
    }
   },
   "outputs": [],
   "source": [
    "soup = BeautifulSoup(driver.page_source)\n",
    "txt = ''\n",
    "for i in soup.find_all('article')[0].find_all('div'):\n",
    "    if len(i.text)==0:\n",
    "        break\n",
    "    else:\n",
    "        txt = txt + i.text\n",
    "driver.close()"
   ]
  },
  {
   "cell_type": "code",
   "execution_count": 5,
   "metadata": {
    "ExecuteTime": {
     "end_time": "2022-08-01T23:12:09.097008Z",
     "start_time": "2022-08-01T23:12:09.085037Z"
    }
   },
   "outputs": [
    {
     "data": {
      "text/plain": [
       "'2º Grau Entre no Jusbrasil para imprimir o conteúdo do Jusbrasil Acesse: https://www.jusbrasil.com.br/cadastro Superior Tribunal de Justiça STJ - EMBARGOS DE DECLARAÇÃO NO AGRAVO REGIMENTAL NO RECURSO DE HABEAS CORPUS: EDcl no AgRg no RHC XXXXX PE 2020/XXXXX-8ver número do processo Entre no Jusbrasil para imprimir o conteúdo do Jusbrasil Acesse: https://www.jusbrasil.com.br/cadastro EMBARGOS DE DECLARAÇÃO NO AGRAVO REGIMENTAL NO RECURSO EM HABEAS CORPUS. VÍCIOS INEXISTENTES. MERA REDISCUSSÃO. CORRUPÇÃO ATIVA E PASSIVA. NOTÍCIA ANÔNIMA DO CRIME APRESENTADA JUNTO COM A CAPTURA DA TELA DAS CONVERSAS DO WHATSAPP. INTERLOCUTOR INTEGRANTE DO GRUPO DE CONVERSAS DO APLICATIVO. ESPELHAMENTO, VIA WHATSAPP WEB, DAS CONVERSAS REALIZADAS PELO INVESTIGADO COM TERCEIROS. NULIDADE VERIFICADA. DEMAIS PROVAS VÁLIDAS. EMBARGOS DE DECLARAÇÃO REJEITADOS. 1. Não se verifica contradição quanto ao argumento de que nem mesmo o acórdão proferido pelo Tribunal de origem afirma a existência de um grupo de Whats App, porquanto tal informação consta expressamente no decisum. 2. Não existe omissão quanto à tese de impossibilidade de utilização das referidas conversas como prova processual, sendo justamente essa a pretensão acolhida no acórdão de agravo regimental, ao considerar as mensagens obtidas por meio do print screen da tela da ferramenta WhatsApp Web como prova ilícita, determinando-se o desentranhamento dos autos, o que demonstra ausência de interesse recursal. 3. Não há contradição quanto ao alcance do reconhecimento da nulidade da prova, na premissa de ser impossível que esta Corte declarasse quais provas foram contaminadas, tarefa que competiria ao Juízo de primeiro grau, haja vista que esta Corte Superior manifestou-se, com base no julgamento do RHC 79.848, no sentido de que não há ilegalidade quanto à manutenção das demais provas produzidas após as diligências prévias da polícia realizadas em razão da notícia anônima dos crimes, razão pela qual foram mantidas. 4. Embargos de declaração rejeitados.(STJ - EDcl no AgRg no RHC: 133430 PE 2020/0217582-8, Relator: Ministro OLINDO MENEZES (DESEMBARGADOR CONVOCADO DO TRF 1ª REGIÃO), Data de Julgamento: 01/06/2021, T6 - SEXTA TURMA, Data de Publicação: DJe 07/06/2021)Ementa para citaçãoWhatsAppEmailFacebookTwitterLinkedInCopiar LinkReportarPublicado por Superior Tribunal de Justiçaano passadoResumoInteiro TeorDetalhes da JurisprudênciaProcessover número do processoÓrgão JulgadorT6 - SEXTA TURMAPublicaçãover data da publicaçãoJulgamentover data do julgamentoRelatorMinistro OLINDO MENEZES (DESEMBARGADOR CONVOCADO DO TRF 1ª REGIÃO)Documentos anexos\\u200bInteiro TeorSTJ_EDCL-AGRG-RHC_133430_f6d05.pdf\\u200b Entre no Jusbrasil para imprimir o conteúdo do Jusbrasil Acesse: https://www.jusbrasil.com.br/cadastro EmentaEMBARGOS DE DECLARAÇÃO NO AGRAVO REGIMENTAL NO RECURSO EM HABEAS CORPUS. VÍCIOS INEXISTENTES. MERA REDISCUSSÃO. CORRUPÇÃO ATIVA E PASSIVA. NOTÍCIA ANÔNIMA DO CRIME APRESENTADA JUNTO COM A CAPTURA DA TELA DAS CONVERSAS DO WHATSAPP. INTERLOCUTOR INTEGRANTE DO GRUPO DE CONVERSAS DO APLICATIVO. ESPELHAMENTO, VIA WHATSAPP WEB, DAS CONVERSAS REALIZADAS PELO INVESTIGADO COM TERCEIROS. NULIDADE VERIFICADA. DEMAIS PROVAS VÁLIDAS. EMBARGOS DE DECLARAÇÃO REJEITADOS.1. Não se verifica contradição quanto ao argumento de que nem mesmo o acórdão proferido pelo Tribunal de origem afirma a existência de um grupo de Whats App, porquanto tal informação consta expressamente no decisum. 2. Não existe omissão quanto à tese de impossibilidade de utilização das referidas conversas como prova processual, sendo justamente essa a pretensão acolhida no acórdão de agravo regimental, ao considerar as mensagens obtidas por meio do print screen da tela da ferramenta WhatsApp Web como prova ilícita, determinando-se o desentranhamento dos autos, o que demonstra ausência de interesse recursal. 3. Não há contradição quanto ao alcance do reconhecimento da nulidade da prova, na premissa de ser impossível que esta Corte declarasse quais provas foram contaminadas, tarefa que competiria ao Juízo de primeiro grau, haja vista que esta Corte Superior manifestou-se, com base no julgamento do RHC 79.848, no sentido de que não há ilegalidade quanto à manutenção das demais provas produzidas após as diligências prévias da polícia realizadas em razão da notícia anônima dos crimes, razão pela qual foram mantidas. 4. Embargos de declaração rejeitados.AcórdãoVistos, relatados e discutidos os autos em que são partes as acima indicadas, acordam os Ministros da Sexta Turma do Superior Tribunal de Justiça, na conformidade dos votos e das notas taquigráficas a seguir, por unanimidade, rejeitar os embargos de declaração nos termos do voto do Sr. Ministro Relator. A Sra. Ministra Laurita Vaz e os Srs. Ministros Sebastião Reis Júnior, Rogerio Schietti Cruz e Antonio Saldanha Palheiro votaram com o Sr. Ministro Relator.2º GrauSuperior Tribunal de Justiça STJ - EMBARGOS DE DECLARAÇÃO NO AGRAVO REGIMENTAL NO RECURSO DE HABEAS CORPUS: EDcl no AgRg no RHC XXXXX PE 2020/XXXXX-8ver número do processoSuperior Tribunal de Justiça STJ - EMBARGOS DE DECLARAÇÃO NO AGRAVO REGIMENTAL NO RECURSO DE HABEAS CORPUS: EDcl no AgRg no RHC XXXXX PE 2020/XXXXX-8ver número do processoSuperior Tribunal de Justiça STJ - EMBARGOS DE DECLARAÇÃO NO AGRAVO REGIMENTAL NO RECURSO DE HABEAS CORPUS: EDcl no AgRg no RHC XXXXX PE 2020/XXXXX-8ver número do processover número do processo Entre no Jusbrasil para imprimir o conteúdo do Jusbrasil Acesse: https://www.jusbrasil.com.br/cadastro EMBARGOS DE DECLARAÇÃO NO AGRAVO REGIMENTAL NO RECURSO EM HABEAS CORPUS. VÍCIOS INEXISTENTES. MERA REDISCUSSÃO. CORRUPÇÃO ATIVA E PASSIVA. NOTÍCIA ANÔNIMA DO CRIME APRESENTADA JUNTO COM A CAPTURA DA TELA DAS CONVERSAS DO WHATSAPP. INTERLOCUTOR INTEGRANTE DO GRUPO DE CONVERSAS DO APLICATIVO. ESPELHAMENTO, VIA WHATSAPP WEB, DAS CONVERSAS REALIZADAS PELO INVESTIGADO COM TERCEIROS. NULIDADE VERIFICADA. DEMAIS PROVAS VÁLIDAS. EMBARGOS DE DECLARAÇÃO REJEITADOS. 1. Não se verifica contradição quanto ao argumento de que nem mesmo o acórdão proferido pelo Tribunal de origem afirma a existência de um grupo de Whats App, porquanto tal informação consta expressamente no decisum. 2. Não existe omissão quanto à tese de impossibilidade de utilização das referidas conversas como prova processual, sendo justamente essa a pretensão acolhida no acórdão de agravo regimental, ao considerar as mensagens obtidas por meio do print screen da tela da ferramenta WhatsApp Web como prova ilícita, determinando-se o desentranhamento dos autos, o que demonstra ausência de interesse recursal. 3. Não há contradição quanto ao alcance do reconhecimento da nulidade da prova, na premissa de ser impossível que esta Corte declarasse quais provas foram contaminadas, tarefa que competiria ao Juízo de primeiro grau, haja vista que esta Corte Superior manifestou-se, com base no julgamento do RHC 79.848, no sentido de que não há ilegalidade quanto à manutenção das demais provas produzidas após as diligências prévias da polícia realizadas em razão da notícia anônima dos crimes, razão pela qual foram mantidas. 4. Embargos de declaração rejeitados.(STJ - EDcl no AgRg no RHC: 133430 PE 2020/0217582-8, Relator: Ministro OLINDO MENEZES (DESEMBARGADOR CONVOCADO DO TRF 1ª REGIÃO), Data de Julgamento: 01/06/2021, T6 - SEXTA TURMA, Data de Publicação: DJe 07/06/2021)Ementa para citaçãoWhatsAppEmailFacebookTwitterLinkedInCopiar LinkReportar Entre no Jusbrasil para imprimir o conteúdo do Jusbrasil Acesse: https://www.jusbrasil.com.br/cadastro EMBARGOS DE DECLARAÇÃO NO AGRAVO REGIMENTAL NO RECURSO EM HABEAS CORPUS. VÍCIOS INEXISTENTES. MERA REDISCUSSÃO. CORRUPÇÃO ATIVA E PASSIVA. NOTÍCIA ANÔNIMA DO CRIME APRESENTADA JUNTO COM A CAPTURA DA TELA DAS CONVERSAS DO WHATSAPP. INTERLOCUTOR INTEGRANTE DO GRUPO DE CONVERSAS DO APLICATIVO. ESPELHAMENTO, VIA WHATSAPP WEB, DAS CONVERSAS REALIZADAS PELO INVESTIGADO COM TERCEIROS. NULIDADE VERIFICADA. DEMAIS PROVAS VÁLIDAS. EMBARGOS DE DECLARAÇÃO REJEITADOS. 1. Não se verifica contradição quanto ao argumento de que nem mesmo o acórdão proferido pelo Tribunal de origem afirma a existência de um grupo de Whats App, porquanto tal informação consta expressamente no decisum. 2. Não existe omissão quanto à tese de impossibilidade de utilização das referidas conversas como prova processual, sendo justamente essa a pretensão acolhida no acórdão de agravo regimental, ao considerar as mensagens obtidas por meio do print screen da tela da ferramenta WhatsApp Web como prova ilícita, determinando-se o desentranhamento dos autos, o que demonstra ausência de interesse recursal. 3. Não há contradição quanto ao alcance do reconhecimento da nulidade da prova, na premissa de ser impossível que esta Corte declarasse quais provas foram contaminadas, tarefa que competiria ao Juízo de primeiro grau, haja vista que esta Corte Superior manifestou-se, com base no julgamento do RHC 79.848, no sentido de que não há ilegalidade quanto à manutenção das demais provas produzidas após as diligências prévias da polícia realizadas em razão da notícia anônima dos crimes, razão pela qual foram mantidas. 4. Embargos de declaração rejeitados.(STJ - EDcl no AgRg no RHC: 133430 PE 2020/0217582-8, Relator: Ministro OLINDO MENEZES (DESEMBARGADOR CONVOCADO DO TRF 1ª REGIÃO), Data de Julgamento: 01/06/2021, T6 - SEXTA TURMA, Data de Publicação: DJe 07/06/2021)Ementa para citaçãoWhatsAppEmailFacebookTwitterLinkedInCopiar LinkReportar Entre no Jusbrasil para imprimir o conteúdo do Jusbrasil Acesse: https://www.jusbrasil.com.br/cadastro EMBARGOS DE DECLARAÇÃO NO AGRAVO REGIMENTAL NO RECURSO EM HABEAS CORPUS. VÍCIOS INEXISTENTES. MERA REDISCUSSÃO. CORRUPÇÃO ATIVA E PASSIVA. NOTÍCIA ANÔNIMA DO CRIME APRESENTADA JUNTO COM A CAPTURA DA TELA DAS CONVERSAS DO WHATSAPP. INTERLOCUTOR INTEGRANTE DO GRUPO DE CONVERSAS DO APLICATIVO. ESPELHAMENTO, VIA WHATSAPP WEB, DAS CONVERSAS REALIZADAS PELO INVESTIGADO COM TERCEIROS. NULIDADE VERIFICADA. DEMAIS PROVAS VÁLIDAS. EMBARGOS DE DECLARAÇÃO REJEITADOS. 1. Não se verifica contradição quanto ao argumento de que nem mesmo o acórdão proferido pelo Tribunal de origem afirma a existência de um grupo de Whats App, porquanto tal informação consta expressamente no decisum. 2. Não existe omissão quanto à tese de impossibilidade de utilização das referidas conversas como prova processual, sendo justamente essa a pretensão acolhida no acórdão de agravo regimental, ao considerar as mensagens obtidas por meio do print screen da tela da ferramenta WhatsApp Web como prova ilícita, determinando-se o desentranhamento dos autos, o que demonstra ausência de interesse recursal. 3. Não há contradição quanto ao alcance do reconhecimento da nulidade da prova, na premissa de ser impossível que esta Corte declarasse quais provas foram contaminadas, tarefa que competiria ao Juízo de primeiro grau, haja vista que esta Corte Superior manifestou-se, com base no julgamento do RHC 79.848, no sentido de que não há ilegalidade quanto à manutenção das demais provas produzidas após as diligências prévias da polícia realizadas em razão da notícia anônima dos crimes, razão pela qual foram mantidas. 4. Embargos de declaração rejeitados.(STJ - EDcl no AgRg no RHC: 133430 PE 2020/0217582-8, Relator: Ministro OLINDO MENEZES (DESEMBARGADOR CONVOCADO DO TRF 1ª REGIÃO), Data de Julgamento: 01/06/2021, T6 - SEXTA TURMA, Data de Publicação: DJe 07/06/2021)Ementa para citaçãoWhatsAppEmailFacebookTwitterLinkedInCopiar LinkReportar Entre no Jusbrasil para imprimir o conteúdo do Jusbrasil Acesse: https://www.jusbrasil.com.br/cadastro EMBARGOS DE DECLARAÇÃO NO AGRAVO REGIMENTAL NO RECURSO EM HABEAS CORPUS. VÍCIOS INEXISTENTES. MERA REDISCUSSÃO. CORRUPÇÃO ATIVA E PASSIVA. NOTÍCIA ANÔNIMA DO CRIME APRESENTADA JUNTO COM A CAPTURA DA TELA DAS CONVERSAS DO WHATSAPP. INTERLOCUTOR INTEGRANTE DO GRUPO DE CONVERSAS DO APLICATIVO. ESPELHAMENTO, VIA WHATSAPP WEB, DAS CONVERSAS REALIZADAS PELO INVESTIGADO COM TERCEIROS. NULIDADE VERIFICADA. DEMAIS PROVAS VÁLIDAS. EMBARGOS DE DECLARAÇÃO REJEITADOS. 1. Não se verifica contradição quanto ao argumento de que nem mesmo o acórdão proferido pelo Tribunal de origem afirma a existência de um grupo de Whats App, porquanto tal informação consta expressamente no decisum. 2. Não existe omissão quanto à tese de impossibilidade de utilização das referidas conversas como prova processual, sendo justamente essa a pretensão acolhida no acórdão de agravo regimental, ao considerar as mensagens obtidas por meio do print screen da tela da ferramenta WhatsApp Web como prova ilícita, determinando-se o desentranhamento dos autos, o que demonstra ausência de interesse recursal. 3. Não há contradição quanto ao alcance do reconhecimento da nulidade da prova, na premissa de ser impossível que esta Corte declarasse quais provas foram contaminadas, tarefa que competiria ao Juízo de primeiro grau, haja vista que esta Corte Superior manifestou-se, com base no julgamento do RHC 79.848, no sentido de que não há ilegalidade quanto à manutenção das demais provas produzidas após as diligências prévias da polícia realizadas em razão da notícia anônima dos crimes, razão pela qual foram mantidas. 4. Embargos de declaração rejeitados.(STJ - EDcl no AgRg no RHC: 133430 PE 2020/0217582-8, Relator: Ministro OLINDO MENEZES (DESEMBARGADOR CONVOCADO DO TRF 1ª REGIÃO), Data de Julgamento: 01/06/2021, T6 - SEXTA TURMA, Data de Publicação: DJe 07/06/2021)Ementa para citaçãoWhatsAppEmailFacebookTwitterLinkedInCopiar LinkReportar Entre no Jusbrasil para imprimir o conteúdo do Jusbrasil Acesse: https://www.jusbrasil.com.br/cadastro EMBARGOS DE DECLARAÇÃO NO AGRAVO REGIMENTAL NO RECURSO EM HABEAS CORPUS. VÍCIOS INEXISTENTES. MERA REDISCUSSÃO. CORRUPÇÃO ATIVA E PASSIVA. NOTÍCIA ANÔNIMA DO CRIME APRESENTADA JUNTO COM A CAPTURA DA TELA DAS CONVERSAS DO WHATSAPP. INTERLOCUTOR INTEGRANTE DO GRUPO DE CONVERSAS DO APLICATIVO. ESPELHAMENTO, VIA WHATSAPP WEB, DAS CONVERSAS REALIZADAS PELO INVESTIGADO COM TERCEIROS. NULIDADE VERIFICADA. DEMAIS PROVAS VÁLIDAS. EMBARGOS DE DECLARAÇÃO REJEITADOS. 1. Não se verifica contradição quanto ao argumento de que nem mesmo o acórdão proferido pelo Tribunal de origem afirma a existência de um grupo de Whats App, porquanto tal informação consta expressamente no decisum. 2. Não existe omissão quanto à tese de impossibilidade de utilização das referidas conversas como prova processual, sendo justamente essa a pretensão acolhida no acórdão de agravo regimental, ao considerar as mensagens obtidas por meio do print screen da tela da ferramenta WhatsApp Web como prova ilícita, determinando-se o desentranhamento dos autos, o que demonstra ausência de interesse recursal. 3. Não há contradição quanto ao alcance do reconhecimento da nulidade da prova, na premissa de ser impossível que esta Corte declarasse quais provas foram contaminadas, tarefa que competiria ao Juízo de primeiro grau, haja vista que esta Corte Superior manifestou-se, com base no julgamento do RHC 79.848, no sentido de que não há ilegalidade quanto à manutenção das demais provas produzidas após as diligências prévias da polícia realizadas em razão da notícia anônima dos crimes, razão pela qual foram mantidas. 4. Embargos de declaração rejeitados.(STJ - EDcl no AgRg no RHC: 133430 PE 2020/0217582-8, Relator: Ministro OLINDO MENEZES (DESEMBARGADOR CONVOCADO DO TRF 1ª REGIÃO), Data de Julgamento: 01/06/2021, T6 - SEXTA TURMA, Data de Publicação: DJe 07/06/2021)Ementa para citação Entre no Jusbrasil para imprimir o conteúdo do Jusbrasil Acesse: https://www.jusbrasil.com.br/cadastro EMBARGOS DE DECLARAÇÃO NO AGRAVO REGIMENTAL NO RECURSO EM HABEAS CORPUS. VÍCIOS INEXISTENTES. MERA REDISCUSSÃO. CORRUPÇÃO ATIVA E PASSIVA. NOTÍCIA ANÔNIMA DO CRIME APRESENTADA JUNTO COM A CAPTURA DA TELA DAS CONVERSAS DO WHATSAPP. INTERLOCUTOR INTEGRANTE DO GRUPO DE CONVERSAS DO APLICATIVO. ESPELHAMENTO, VIA WHATSAPP WEB, DAS CONVERSAS REALIZADAS PELO INVESTIGADO COM TERCEIROS. NULIDADE VERIFICADA. DEMAIS PROVAS VÁLIDAS. EMBARGOS DE DECLARAÇÃO REJEITADOS. 1. Não se verifica contradição quanto ao argumento de que nem mesmo o acórdão proferido pelo Tribunal de origem afirma a existência de um grupo de Whats App, porquanto tal informação consta expressamente no decisum. 2. Não existe omissão quanto à tese de impossibilidade de utilização das referidas conversas como prova processual, sendo justamente essa a pretensão acolhida no acórdão de agravo regimental, ao considerar as mensagens obtidas por meio do print screen da tela da ferramenta WhatsApp Web como prova ilícita, determinando-se o desentranhamento dos autos, o que demonstra ausência de interesse recursal. 3. Não há contradição quanto ao alcance do reconhecimento da nulidade da prova, na premissa de ser impossível que esta Corte declarasse quais provas foram contaminadas, tarefa que competiria ao Juízo de primeiro grau, haja vista que esta Corte Superior manifestou-se, com base no julgamento do RHC 79.848, no sentido de que não há ilegalidade quanto à manutenção das demais provas produzidas após as diligências prévias da polícia realizadas em razão da notícia anônima dos crimes, razão pela qual foram mantidas. 4. Embargos de declaração rejeitados.(STJ - EDcl no AgRg no RHC: 133430 PE 2020/0217582-8, Relator: Ministro OLINDO MENEZES (DESEMBARGADOR CONVOCADO DO TRF 1ª REGIÃO), Data de Julgamento: 01/06/2021, T6 - SEXTA TURMA, Data de Publicação: DJe 07/06/2021)EMBARGOS DE DECLARAÇÃO NO AGRAVO REGIMENTAL NO RECURSO EM HABEAS CORPUS. VÍCIOS INEXISTENTES. MERA REDISCUSSÃO. CORRUPÇÃO ATIVA E PASSIVA. NOTÍCIA ANÔNIMA DO CRIME APRESENTADA JUNTO COM A CAPTURA DA TELA DAS CONVERSAS DO WHATSAPP. INTERLOCUTOR INTEGRANTE DO GRUPO DE CONVERSAS DO APLICATIVO. ESPELHAMENTO, VIA WHATSAPP WEB, DAS CONVERSAS REALIZADAS PELO INVESTIGADO COM TERCEIROS. NULIDADE VERIFICADA. DEMAIS PROVAS VÁLIDAS. EMBARGOS DE DECLARAÇÃO REJEITADOS. 1. Não se verifica contradição quanto ao argumento de que nem mesmo o acórdão proferido pelo Tribunal de origem afirma a existência de um grupo de Whats App, porquanto tal informação consta expressamente no decisum. 2. Não existe omissão quanto à tese de impossibilidade de utilização das referidas conversas como prova processual, sendo justamente essa a pretensão acolhida no acórdão de agravo regimental, ao considerar as mensagens obtidas por meio do print screen da tela da ferramenta WhatsApp Web como prova ilícita, determinando-se o desentranhamento dos autos, o que demonstra ausência de interesse recursal. 3. Não há contradição quanto ao alcance do reconhecimento da nulidade da prova, na premissa de ser impossível que esta Corte declarasse quais provas foram contaminadas, tarefa que competiria ao Juízo de primeiro grau, haja vista que esta Corte Superior manifestou-se, com base no julgamento do RHC 79.848, no sentido de que não há ilegalidade quanto à manutenção das demais provas produzidas após as diligências prévias da polícia realizadas em razão da notícia anônima dos crimes, razão pela qual foram mantidas. 4. Embargos de declaração rejeitados.(STJ - EDcl no AgRg no RHC: 133430 PE 2020/0217582-8, Relator: Ministro OLINDO MENEZES (DESEMBARGADOR CONVOCADO DO TRF 1ª REGIÃO), Data de Julgamento: 01/06/2021, T6 - SEXTA TURMA, Data de Publicação: DJe 07/06/2021)EMBARGOS DE DECLARAÇÃO NO AGRAVO REGIMENTAL NO RECURSO EM HABEAS CORPUS. VÍCIOS INEXISTENTES. MERA REDISCUSSÃO. CORRUPÇÃO ATIVA E PASSIVA. NOTÍCIA ANÔNIMA DO CRIME APRESENTADA JUNTO COM A CAPTURA DA TELA DAS CONVERSAS DO WHATSAPP. INTERLOCUTOR INTEGRANTE DO GRUPO DE CONVERSAS DO APLICATIVO. ESPELHAMENTO, VIA WHATSAPP WEB, DAS CONVERSAS REALIZADAS PELO INVESTIGADO COM TERCEIROS. NULIDADE VERIFICADA. DEMAIS PROVAS VÁLIDAS. EMBARGOS DE DECLARAÇÃO REJEITADOS. 1. Não se verifica contradição quanto ao argumento de que nem mesmo o acórdão proferido pelo Tribunal de origem afirma a existência de um grupo de Whats App, porquanto tal informação consta expressamente no decisum. 2. Não existe omissão quanto à tese de impossibilidade de utilização das referidas conversas como prova processual, sendo justamente essa a pretensão acolhida no acórdão de agravo regimental, ao considerar as mensagens obtidas por meio do print screen da tela da ferramenta WhatsApp Web como prova ilícita, determinando-se o desentranhamento dos autos, o que demonstra ausência de interesse recursal. 3. Não há contradição quanto ao alcance do reconhecimento da nulidade da prova, na premissa de ser impossível que esta Corte declarasse quais provas foram contaminadas, tarefa que competiria ao Juízo de primeiro grau, haja vista que esta Corte Superior manifestou-se, com base no julgamento do RHC 79.848, no sentido de que não há ilegalidade quanto à manutenção das demais provas produzidas após as diligências prévias da polícia realizadas em razão da notícia anônima dos crimes, razão pela qual foram mantidas. 4. Embargos de declaração rejeitados.(STJ - EDcl no AgRg no RHC: 133430 PE 2020/0217582-8, Relator: Ministro OLINDO MENEZES (DESEMBARGADOR CONVOCADO DO TRF 1ª REGIÃO), Data de Julgamento: 01/06/2021, T6 - SEXTA TURMA, Data de Publicação: DJe 07/06/2021)EMBARGOS DE DECLARAÇÃO NO AGRAVO REGIMENTAL NO RECURSO EM HABEAS CORPUS. VÍCIOS INEXISTENTES. MERA REDISCUSSÃO. CORRUPÇÃO ATIVA E PASSIVA. NOTÍCIA ANÔNIMA DO CRIME APRESENTADA JUNTO COM A CAPTURA DA TELA DAS CONVERSAS DO WHATSAPP. INTERLOCUTOR INTEGRANTE DO GRUPO DE CONVERSAS DO APLICATIVO. ESPELHAMENTO, VIA WHATSAPP WEB, DAS CONVERSAS REALIZADAS PELO INVESTIGADO COM TERCEIROS. NULIDADE VERIFICADA. DEMAIS PROVAS VÁLIDAS. EMBARGOS DE DECLARAÇÃO REJEITADOS. 1. Não se verifica contradição quanto ao argumento de que nem mesmo o acórdão proferido pelo Tribunal de origem afirma a existência de um grupo de Whats App, porquanto tal informação consta expressamente no decisum. 2. Não existe omissão quanto à tese de impossibilidade de utilização das referidas conversas como prova processual, sendo justamente essa a pretensão acolhida no acórdão de agravo regimental, ao considerar as mensagens obtidas por meio do print screen da tela da ferramenta WhatsApp Web como prova ilícita, determinando-se o desentranhamento dos autos, o que demonstra ausência de interesse recursal. 3. Não há contradição quanto ao alcance do reconhecimento da nulidade da prova, na premissa de ser impossível que esta Corte declarasse quais provas foram contaminadas, tarefa que competiria ao Juízo de primeiro grau, haja vista que esta Corte Superior manifestou-se, com base no julgamento do RHC 79.848, no sentido de que não há ilegalidade quanto à manutenção das demais provas produzidas após as diligências prévias da polícia realizadas em razão da notícia anônima dos crimes, razão pela qual foram mantidas. 4. Embargos de declaração rejeitados.(STJ - EDcl no AgRg no RHC: 133430 PE 2020/0217582-8, Relator: Ministro OLINDO MENEZES (DESEMBARGADOR CONVOCADO DO TRF 1ª REGIÃO), Data de Julgamento: 01/06/2021, T6 - SEXTA TURMA, Data de Publicação: DJe 07/06/2021)EMBARGOS DE DECLARAÇÃO NO AGRAVO REGIMENTAL NO RECURSO EM HABEAS CORPUS. VÍCIOS INEXISTENTES. MERA REDISCUSSÃO. CORRUPÇÃO ATIVA E PASSIVA. NOTÍCIA ANÔNIMA DO CRIME APRESENTADA JUNTO COM A CAPTURA DA TELA DAS CONVERSAS DO WHATSAPP. INTERLOCUTOR INTEGRANTE DO GRUPO DE CONVERSAS DO APLICATIVO. ESPELHAMENTO, VIA WHATSAPP WEB, DAS CONVERSAS REALIZADAS PELO INVESTIGADO COM TERCEIROS. NULIDADE VERIFICADA. DEMAIS PROVAS VÁLIDAS. EMBARGOS DE DECLARAÇÃO REJEITADOS. 1. Não se verifica contradição quanto ao argumento de que nem mesmo o acórdão proferido pelo Tribunal de origem afirma a existência de um grupo de Whats App, porquanto tal informação consta expressamente no decisum. 2. Não existe omissão quanto à tese de impossibilidade de utilização das referidas conversas como prova processual, sendo justamente essa a pretensão acolhida no acórdão de agravo regimental, ao considerar as mensagens obtidas por meio do print screen da tela da ferramenta WhatsApp Web como prova ilícita, determinando-se o desentranhamento dos autos, o que demonstra ausência de interesse recursal. 3. Não há contradição quanto ao alcance do reconhecimento da nulidade da prova, na premissa de ser impossível que esta Corte declarasse quais provas foram contaminadas, tarefa que competiria ao Juízo de primeiro grau, haja vista que esta Corte Superior manifestou-se, com base no julgamento do RHC 79.848, no sentido de que não há ilegalidade quanto à manutenção das demais provas produzidas após as diligências prévias da polícia realizadas em razão da notícia anônima dos crimes, razão pela qual foram mantidas. 4. Embargos de declaração rejeitados.(STJ - EDcl no AgRg no RHC: 133430 PE 2020/0217582-8, Relator: Ministro OLINDO MENEZES (DESEMBARGADOR CONVOCADO DO TRF 1ª REGIÃO), Data de Julgamento: 01/06/2021, T6 - SEXTA TURMA, Data de Publicação: DJe 07/06/2021)Ementa para citaçãoWhatsAppEmailFacebookTwitterLinkedInCopiar LinkReportar'"
      ]
     },
     "execution_count": 5,
     "metadata": {},
     "output_type": "execute_result"
    }
   ],
   "source": [
    "txt"
   ]
  },
  {
   "cell_type": "code",
   "execution_count": null,
   "metadata": {},
   "outputs": [],
   "source": []
  }
 ],
 "metadata": {
  "hide_input": false,
  "kernelspec": {
   "display_name": "Python 3",
   "language": "python",
   "name": "python3"
  },
  "language_info": {
   "codemirror_mode": {
    "name": "ipython",
    "version": 3
   },
   "file_extension": ".py",
   "mimetype": "text/x-python",
   "name": "python",
   "nbconvert_exporter": "python",
   "pygments_lexer": "ipython3",
   "version": "3.7.4"
  },
  "varInspector": {
   "cols": {
    "lenName": 16,
    "lenType": 16,
    "lenVar": 40
   },
   "kernels_config": {
    "python": {
     "delete_cmd_postfix": "",
     "delete_cmd_prefix": "del ",
     "library": "var_list.py",
     "varRefreshCmd": "print(var_dic_list())"
    },
    "r": {
     "delete_cmd_postfix": ") ",
     "delete_cmd_prefix": "rm(",
     "library": "var_list.r",
     "varRefreshCmd": "cat(var_dic_list()) "
    }
   },
   "types_to_exclude": [
    "module",
    "function",
    "builtin_function_or_method",
    "instance",
    "_Feature"
   ],
   "window_display": false
  }
 },
 "nbformat": 4,
 "nbformat_minor": 2
}
